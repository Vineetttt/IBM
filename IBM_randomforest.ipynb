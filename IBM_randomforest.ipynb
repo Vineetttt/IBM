{
  "cells": [
    {
      "cell_type": "code",
      "source": [
        "from google.colab import drive\n",
        "drive.mount('/content/drive')"
      ],
      "metadata": {
        "colab": {
          "base_uri": "https://localhost:8080/"
        },
        "id": "zTYMv_SKSwam",
        "outputId": "7de81d57-a444-4c5c-8761-ac41b0fde795"
      },
      "id": "zTYMv_SKSwam",
      "execution_count": null,
      "outputs": [
        {
          "output_type": "stream",
          "name": "stdout",
          "text": [
            "Mounted at /content/drive\n"
          ]
        }
      ]
    },
    {
      "cell_type": "code",
      "execution_count": null,
      "id": "c348e6de",
      "metadata": {
        "colab": {
          "base_uri": "https://localhost:8080/"
        },
        "id": "c348e6de",
        "outputId": "c5d94f08-ba09-4290-b985-9867dac34520"
      },
      "outputs": [
        {
          "output_type": "stream",
          "name": "stdout",
          "text": [
            "Shape of X: (8022, 13)\n",
            "Shape of y: (8022,)\n",
            "Shape of X_train: (6417, 13)\n",
            "Shape of X_test: (1605, 13)\n"
          ]
        }
      ],
      "source": [
        "import os\n",
        "import numpy as np\n",
        "import pandas as pd\n",
        "import librosa\n",
        "import tensorflow as tf\n",
        "from sklearn.model_selection import train_test_split\n",
        "from sklearn.preprocessing import LabelEncoder\n",
        "from sklearn.linear_model import LogisticRegression\n",
        "from sklearn.ensemble import RandomForestClassifier\n",
        "from sklearn.svm import SVC\n",
        "from sklearn.discriminant_analysis import LinearDiscriminantAnalysis, QuadraticDiscriminantAnalysis\n",
        "from sklearn.metrics import accuracy_score, classification_report\n",
        "import joblib\n",
        "\n",
        "# Function to extract MFCCs from an audio file\n",
        "def extract_features(audio_path, n_mfcc=13):\n",
        "    audio, sr = librosa.load(audio_path, sr=None)\n",
        "    mfccs = librosa.feature.mfcc(y=audio, sr=sr, n_mfcc=n_mfcc)\n",
        "    return np.mean(mfccs, axis=1)\n",
        "\n",
        "# Load and preprocess the dataset\n",
        "def load_data(data_dir):\n",
        "    features = []\n",
        "    labels = []\n",
        "    for label in os.listdir(data_dir):\n",
        "        label_dir = os.path.join(data_dir, label)\n",
        "        if os.path.isdir(label_dir):\n",
        "            for audio_file in os.listdir(label_dir):\n",
        "                file_path = os.path.join(label_dir, audio_file)\n",
        "                mfccs = extract_features(file_path)\n",
        "                features.append(mfccs)\n",
        "                labels.append(label)\n",
        "    return np.array(features), np.array(labels)\n",
        "\n",
        "# Load and preprocess the data\n",
        "X, y = load_data(\"/content/drive/MyDrive/IBM_audio_dataset\")\n",
        "print(\"Shape of X:\", X.shape)\n",
        "print(\"Shape of y:\", y.shape)\n",
        "\n",
        "# Encode labels\n",
        "le = LabelEncoder()\n",
        "y_encoded = le.fit_transform(y)\n",
        "\n",
        "# Split the data\n",
        "X_train, X_test, y_train, y_test = train_test_split(X, y_encoded, test_size=0.2, random_state=42)\n",
        "\n",
        "# Normalize the features\n",
        "mean = np.mean(X_train, axis=0)\n",
        "std = np.std(X_train, axis=0)\n",
        "X_train = (X_train - mean) / (std + 1e-8)\n",
        "X_test = (X_test - mean) / (std + 1e-8)\n",
        "\n",
        "# Reshape for CNN input (if necessary)\n",
        "if len(X_train.shape) == 3:\n",
        "    X_train = X_train[..., np.newaxis]\n",
        "    X_test = X_test[..., np.newaxis]\n",
        "\n",
        "print(\"Shape of X_train:\", X_train.shape)\n",
        "print(\"Shape of X_test:\", X_test.shape)"
      ]
    },
    {
      "cell_type": "markdown",
      "source": [
        "## Logistic Regression and Random Forest"
      ],
      "metadata": {
        "id": "g2p-9r83YZtp"
      },
      "id": "g2p-9r83YZtp"
    },
    {
      "cell_type": "code",
      "execution_count": null,
      "id": "71ec242c",
      "metadata": {
        "colab": {
          "base_uri": "https://localhost:8080/"
        },
        "id": "71ec242c",
        "outputId": "b261d2fa-0509-4f63-89c8-53976ea08fc8"
      },
      "outputs": [
        {
          "output_type": "stream",
          "name": "stdout",
          "text": [
            "\n",
            "Logistic Regression:\n",
            "Accuracy: 0.729595015576324\n",
            "              precision    recall  f1-score   support\n",
            "\n",
            "           0       0.70      0.82      0.75       332\n",
            "           1       0.50      0.31      0.38       295\n",
            "           2       0.80      0.86      0.83       885\n",
            "           3       0.61      0.52      0.56        93\n",
            "\n",
            "    accuracy                           0.73      1605\n",
            "   macro avg       0.65      0.63      0.63      1605\n",
            "weighted avg       0.71      0.73      0.71      1605\n",
            "\n",
            "\n",
            "Random Forest:\n",
            "Accuracy: 0.9557632398753894\n",
            "              precision    recall  f1-score   support\n",
            "\n",
            "           0       0.92      0.96      0.94       332\n",
            "           1       0.96      0.93      0.94       295\n",
            "           2       0.97      0.98      0.97       885\n",
            "           3       0.96      0.84      0.90        93\n",
            "\n",
            "    accuracy                           0.96      1605\n",
            "   macro avg       0.95      0.93      0.94      1605\n",
            "weighted avg       0.96      0.96      0.96      1605\n",
            "\n"
          ]
        }
      ],
      "source": [
        "def train_logistic_regression(X_train, y_train, X_test, y_test):\n",
        "    log_reg = LogisticRegression(max_iter=1000)\n",
        "    log_reg.fit(X_train.reshape(X_train.shape[0], -1), y_train)  # Flatten the input\n",
        "    y_pred = log_reg.predict(X_test.reshape(X_test.shape[0], -1))\n",
        "    print(\"\\nLogistic Regression:\")\n",
        "    print(f\"Accuracy: {accuracy_score(y_test, y_pred)}\")\n",
        "    print(classification_report(y_test, y_pred))\n",
        "\n",
        "def train_random_forest(X_train, y_train, X_test, y_test):\n",
        "    rf = RandomForestClassifier(n_estimators=100)\n",
        "    rf.fit(X_train.reshape(X_train.shape[0], -1), y_train)\n",
        "    y_pred = rf.predict(X_test.reshape(X_test.shape[0], -1))\n",
        "    print(\"\\nRandom Forest:\")\n",
        "    print(f\"Accuracy: {accuracy_score(y_test, y_pred)}\")\n",
        "    print(classification_report(y_test, y_pred))\n",
        "\n",
        "train_logistic_regression(X_train, y_train, X_test, y_test)\n",
        "train_random_forest(X_train, y_train, X_test, y_test)"
      ]
    }
  ],
  "metadata": {
    "kernelspec": {
      "display_name": "Python 3 (ipykernel)",
      "language": "python",
      "name": "python3"
    },
    "language_info": {
      "codemirror_mode": {
        "name": "ipython",
        "version": 3
      },
      "file_extension": ".py",
      "mimetype": "text/x-python",
      "name": "python",
      "nbconvert_exporter": "python",
      "pygments_lexer": "ipython3",
      "version": "3.9.12"
    },
    "colab": {
      "provenance": []
    }
  },
  "nbformat": 4,
  "nbformat_minor": 5
}